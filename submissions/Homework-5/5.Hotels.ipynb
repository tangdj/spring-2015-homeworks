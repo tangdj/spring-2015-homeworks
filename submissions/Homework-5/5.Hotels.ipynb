{
 "metadata": {
  "name": "",
  "signature": "sha256:0cb52ca58bec7fb569500711476c49ddaa262ca2b70b768684b9fe6ed5744467"
 },
 "nbformat": 3,
 "nbformat_minor": 0,
 "worksheets": [
  {
   "cells": [
    {
     "cell_type": "markdown",
     "metadata": {},
     "source": [
      "(In order to load the stylesheet of this notebook, execute the last code cell in this notebook)"
     ]
    },
    {
     "cell_type": "heading",
     "level": 1,
     "metadata": {},
     "source": [
      "Analyzing hotel ratings on Tripadvisor"
     ]
    },
    {
     "cell_type": "markdown",
     "metadata": {},
     "source": [
      "In this homework we will focus on practicing two techniques: web scraping and regression. For the first part, we will build upon the sample code from the Lecture and attempt to get some basic information for each hotel. Then, we will fit a regression model on this information and try to analyze it.   "
     ]
    },
    {
     "cell_type": "markdown",
     "metadata": {},
     "source": [
      "One of the main disadvantages of scraping a website instead of using an API is that, without any notice, the website may change its layout and render our code useless. Something like that happened in our case. Tripadvisor changed the layout of the buttons that we use to navigate between the different pages of the results. This was the main reason people were having problem with executing the code."
     ]
    },
    {
     "cell_type": "markdown",
     "metadata": {},
     "source": [
      "**Task 1 (20 pts)**\n",
      "\n",
      "The first task of the homework is to fix the scraping code. We basically need to replace the part where we are checking if there is another page and getting its link with new code that reflects the new navigation layout. "
     ]
    },
    {
     "cell_type": "markdown",
     "metadata": {},
     "source": [
      "** Task 2 (30 pts)**\n",
      "\n",
      "Then, for each hotel that our search returns, we will \"click\" (with the code of course) on it and scrape the information below.\n",
      "\n",
      "![Information to be scraped](hotel_info.png)\n",
      "\n",
      "Of course, feel free to collect even more data if you want. "
     ]
    },
    {
     "cell_type": "markdown",
     "metadata": {},
     "source": [
      "** Task 3 (20 pts) **\n",
      "\n",
      "Now, we will use regression to analyze this information. First, we will fit a linear regression model that predicts the average rating. For example, for the hotel above, the average rating is\n",
      "\n",
      "$$ \\text{AVG_SCORE} = \\frac{1*31 + 2*33 + 3*98 + 4*504 + 5*1861}{2527}$$\n",
      "\n",
      "Use the model to analyze the important factors that decide the $\\text{AVG_SCORE}$."
     ]
    },
    {
     "cell_type": "code",
     "collapsed": false,
     "input": [
      "import time\n",
      "\n",
      "import numpy as np\n",
      "import matplotlib.pyplot as plt\n",
      "import pandas as pd\n",
      "\n",
      "import scipy as sp\n",
      "import scipy.sparse.linalg as linalg\n",
      "import scipy.cluster.hierarchy as hr\n",
      "from scipy.spatial.distance import pdist, squareform\n",
      "\n",
      "import sklearn.datasets as datasets\n",
      "import sklearn.metrics as metrics\n",
      "import sklearn.utils as utils\n",
      "import sklearn.linear_model as linear_model\n",
      "import sklearn.cross_validation as cross_validation\n",
      "import sklearn.cluster as cluster\n",
      "from sklearn.neighbors import KNeighborsClassifier\n",
      "from sklearn.decomposition import TruncatedSVD\n",
      "from sklearn.preprocessing import StandardScaler\n",
      "\n",
      "import statsmodels.api as sm\n",
      "\n",
      "from patsy import dmatrices,dmatrix\n",
      "\n",
      "import seaborn as sns\n",
      "%matplotlib inline"
     ],
     "language": "python",
     "metadata": {},
     "outputs": [],
     "prompt_number": 64
    },
    {
     "cell_type": "markdown",
     "metadata": {},
     "source": [
      "This time, we take rating summary as x and average score as target values and find the relations between them. Before analysis, we assume that the location will not be an important value because all the data we analyze is in the same position and Boston is known for its convenient public transportation. Thus, all the hotels will use this advantage to attract tourists."
     ]
    },
    {
     "cell_type": "code",
     "collapsed": false,
     "input": [
      "hotels=open(\"hotel.txt\", \"rb\")\n",
      "hotel=[\"Location\",\"Sleep Quality\",\"Rooms\",\"Service\",\"Value\",\"Cleanliness\"]\n",
      "ratings=[]\n",
      "target=[]\n",
      "line=[]\n",
      "for lines in hotels:\n",
      "    target.append(float(lines.split(\",\")[1]))\n",
      "    #hotel.append(lines.split(\",\")[0])\n",
      "    line=lines.split(\",\")[2:]\n",
      "    temp=[]\n",
      "    for index in line:\n",
      "        temp.append(float(index.split('\\n')[0]))\n",
      "    ratings.append(temp)\n",
      "#print hotel,ratings,target"
     ],
     "language": "python",
     "metadata": {},
     "outputs": [],
     "prompt_number": 65
    },
    {
     "cell_type": "code",
     "collapsed": false,
     "input": [
      "y=np.array(target)\n",
      "X=np.array(ratings)\n",
      "X, y = utils.shuffle(X, y, random_state=1)\n",
      "X_train, X_test, y_train, y_test = cross_validation.train_test_split(X, y, test_size=0.4, random_state=0)\n",
      "model = sm.OLS(y_train, X_train)\n",
      "results = model.fit()\n",
      "print results.summary()\n",
      "print \"Confidence Intervals:\", results.conf_int()\n",
      "print \"Parameters:\", results.params"
     ],
     "language": "python",
     "metadata": {},
     "outputs": [
      {
       "output_type": "stream",
       "stream": "stdout",
       "text": [
        "                            OLS Regression Results                            \n",
        "==============================================================================\n",
        "Dep. Variable:                      y   R-squared:                       1.000\n",
        "Model:                            OLS   Adj. R-squared:                  1.000\n",
        "Method:                 Least Squares   F-statistic:                 1.633e+04\n",
        "Date:                Sun, 05 Apr 2015   Prob (F-statistic):           3.80e-66\n",
        "Time:                        11:14:35   Log-Likelihood:                 49.556\n",
        "No. Observations:                  46   AIC:                            -87.11\n",
        "Df Residuals:                      40   BIC:                            -76.14\n",
        "Df Model:                           6                                         \n",
        "==============================================================================\n",
        "                 coef    std err          t      P>|t|      [95.0% Conf. Int.]\n",
        "------------------------------------------------------------------------------\n",
        "x1             0.0055      0.049      0.111      0.912        -0.095     0.105\n",
        "x2             0.1885      0.060      3.160      0.003         0.068     0.309\n",
        "x3             0.3313      0.063      5.254      0.000         0.204     0.459\n",
        "x4             0.1382      0.071      1.933      0.060        -0.006     0.283\n",
        "x5             0.1356      0.058      2.349      0.024         0.019     0.252\n",
        "x6             0.1891      0.066      2.862      0.007         0.056     0.323\n",
        "==============================================================================\n",
        "Omnibus:                        0.873   Durbin-Watson:                   1.951\n",
        "Prob(Omnibus):                  0.646   Jarque-Bera (JB):                0.915\n",
        "Skew:                          -0.296   Prob(JB):                        0.633\n",
        "Kurtosis:                       2.645   Cond. No.                         67.2\n",
        "==============================================================================\n",
        "Confidence Intervals: [[-0.09453801  0.10548457]\n",
        " [ 0.06794364  0.30904661]\n",
        " [ 0.20386262  0.45873039]\n",
        " [-0.00627097  0.28267132]\n",
        " [ 0.01890812  0.25230088]\n",
        " [ 0.05555343  0.32270889]]\n",
        "Parameters: [ 0.00547328  0.18849512  0.3312965   0.13820018  0.1356045   0.18913116]\n"
       ]
      }
     ],
     "prompt_number": 66
    },
    {
     "cell_type": "markdown",
     "metadata": {},
     "source": [
      "From the above, we can witness that the 'location' is not important. Thus, for the graph below, we will ignore these two values and draw a linear regression and get the mean value for the rest of characters"
     ]
    },
    {
     "cell_type": "code",
     "collapsed": false,
     "input": [
      "x_train=[]\n",
      "for lists in X_train:\n",
      "    lists=lists[1:]\n",
      "    lists=np.delete(lists,3)\n",
      "    x_train.append(sum(lists)/len(lists))\n",
      "x_train=np.array(x_train)\n",
      "model = sm.OLS(y_train, x_train)\n",
      "results = model.fit()"
     ],
     "language": "python",
     "metadata": {},
     "outputs": [],
     "prompt_number": 67
    },
    {
     "cell_type": "code",
     "collapsed": false,
     "input": [
      "x_train=[]\n",
      "for lists in X_test:\n",
      "    lists=lists[1:]\n",
      "    lists=np.delete(lists,3)\n",
      "    x_train.append(sum(lists)/len(lists))\n",
      "x_train=np.array(x_train)      \n",
      "print y_test.shape, x_train.shape\n",
      "#print\n",
      "#X, y = utils.shuffle(X, y, random_state=1)\n",
      "plt.scatter(x_train, y_test, c=\"slategray\", alpha=0.4, linewidths=0.3)\n",
      "#model = sm.OLS(y, x_train)\n",
      "#results = model.fit()\n",
      "plt.plot(x_train, results.params[0]*x_train, color='seagreen', linewidth=3, alpha=.8);"
     ],
     "language": "python",
     "metadata": {},
     "outputs": [
      {
       "output_type": "stream",
       "stream": "stdout",
       "text": [
        "(31,) (31,)\n"
       ]
      },
      {
       "metadata": {},
       "output_type": "display_data",
       "png": "[encoded data removed]",
       "text": [
        "<matplotlib.figure.Figure at 0x7f092df35990>"
       ]
      }
     ],
     "prompt_number": 68
    },
    {
     "cell_type": "markdown",
     "metadata": {},
     "source": [
      "** Task 4 (30 pts) **\n",
      "\n",
      "Finally, we will use logistic regression to decide if a hotel is _excellent_ or not. We classify a hotel as _excellent_ if more than **60%** of its ratings are 5 stars. This is a binary attribute on which we can fit a logistic regression model. As before, use the model to analyze the data.\n",
      "\n",
      "-------"
     ]
    },
    {
     "cell_type": "markdown",
     "metadata": {},
     "source": [
      "In order to use code from a Python script file, we need to put that file in the same folder as the notebook and import it as a library. Then, we will be able to access it's functions. For example, in the case of the lecture code, we could do the following:\n",
      "\n",
      "``` python\n",
      "import scrape_solution as scrape\n",
      "\n",
      "scrape.get_city_page()\n",
      "```\n",
      "\n",
      "Of course, you might need to modify and restructure the code so that it returns what you need."
     ]
    },
    {
     "cell_type": "code",
     "collapsed": false,
     "input": [
      "target=[]\n",
      "sleep=[]\n",
      "rooms=[]\n",
      "services=[]\n",
      "value=[]\n",
      "cleaniness=[]\n",
      "hotellists=open(\"bihotel.txt\", \"rb\")\n",
      "for hotel in hotellists:\n",
      "    target.append(hotel.split(\",\")[1])\n",
      "    sleep.append(hotel.split(\",\")[2])\n",
      "    rooms.append(hotel.split(\",\")[4])\n",
      "    services.append(hotel.split(\",\")[5])\n",
      "    value.append(hotel.split(\",\")[6])\n",
      "    cleaniness.append(hotel.split(\",\")[7].split('\\n')[0])\n",
      "hotels=pd.DataFrame({'target':target,'sleep':sleep,'rooms':rooms,'services':services,'cleaniness':cleaniness})\n",
      "X = dmatrix('C(cleaniness)+C(rooms)+C(services)+C(sleep)',hotels, return_type=\"dataframe\")\n",
      "X = X.rename(columns = {'C(cleaniness)[T.3.5]':'clean_3_5',\n",
      "                        'C(cleaniness)[T.4]':'clean_4',\n",
      "                        'C(cleaniness)[T.4.5]':'clean_4_5',\n",
      "                        'C(cleaniness)[T.5]':'clean_5',\n",
      "                        'C(rooms)[T.3]':'rooms_3',\n",
      "                        'C(rooms)[T.3.5]':'rooms_3_5',\n",
      "                        'C(rooms)[T.4]':'rooms_4',\n",
      "                        'C(rooms)[T.4.5]':'rooms_4_5',\n",
      "                        'C(rooms)[T.5]':'rooms_5',\n",
      "                        'C(services)[T.3]':'services_3',\n",
      "                        'C(services)[T.3.5]':'services_3_5',\n",
      "                        'C(services)[T.4]':'services_4',\n",
      "                        'C(services)[T.4.5]':'services_4_5',\n",
      "                        'C(services)[T.5]':'services_5',\n",
      "                        'C(sleep)[T.3.5]':'sleep_3_5',\n",
      "                        'C(sleep)[T.4]':'sleep_4',\n",
      "                        'C(sleep)[T.4.5]':'sleep_4_5',\n",
      "                        'C(sleep)[T.5]':'sleep_5'})\n",
      "y=hotels['target']\n",
      "y=np.ravel(y)\n",
      "print y.shape,y"
     ],
     "language": "python",
     "metadata": {},
     "outputs": [
      {
       "output_type": "stream",
       "stream": "stdout",
       "text": [
        "(77,) ['1' '0' '1' '1' '1' '0' '1' '1' '1' '0' '0' '1' '0' '0' '0' '1' '0' '0'\n",
        " '0' '0' '0' '0' '0' '1' '0' '0' '0' '1' '0' '1' '0' '0' '0' '1' '0' '0'\n",
        " '0' '0' '0' '1' '0' '0' '0' '0' '1' '0' '0' '0' '0' '0' '0' '0' '0' '0'\n",
        " '0' '0' '0' '0' '0' '1' '0' '0' '0' '0' '1' '1' '0' '0' '0' '0' '0' '0'\n",
        " '0' '0' '0' '0' '0']\n"
       ]
      }
     ],
     "prompt_number": 76
    },
    {
     "cell_type": "code",
     "collapsed": false,
     "input": [
      "X_train, X_test, y_train, y_test = cross_validation.train_test_split(X,y,test_size=0.3,random_state=0)\n",
      "logistic_regr = linear_model.LogisticRegression()\n",
      "logistic_regr.fit(X_train, y_train)\n",
      "y_predicted = logistic_regr.predict(X_test)\n",
      "print y_predicted"
     ],
     "language": "python",
     "metadata": {},
     "outputs": [
      {
       "output_type": "stream",
       "stream": "stdout",
       "text": [
        "['0' '0' '1' '0' '0' '0' '0' '1' '0' '0' '1' '0' '1' '0' '0' '1' '0' '0'\n",
        " '0' '0' '1' '0' '0' '0']\n"
       ]
      }
     ],
     "prompt_number": 78
    },
    {
     "cell_type": "code",
     "collapsed": false,
     "input": [
      "print metrics.accuracy_score(y_test, y_predicted)"
     ],
     "language": "python",
     "metadata": {},
     "outputs": [
      {
       "output_type": "stream",
       "stream": "stdout",
       "text": [
        "0.958333333333\n"
       ]
      }
     ],
     "prompt_number": 79
    },
    {
     "cell_type": "code",
     "collapsed": false,
     "input": [
      "scores = cross_validation.cross_val_score(linear_model.LogisticRegression(),\n",
      "                                          X,\n",
      "                                          y,\n",
      "                                          scoring='accuracy',\n",
      "                                          cv=6)\n",
      "print scores"
     ],
     "language": "python",
     "metadata": {},
     "outputs": [
      {
       "output_type": "stream",
       "stream": "stdout",
       "text": [
        "[ 0.92307692  1.          1.          0.92307692  0.84615385  1.        ]\n"
       ]
      }
     ],
     "prompt_number": 82
    },
    {
     "cell_type": "markdown",
     "metadata": {},
     "source": [
      "----"
     ]
    },
    {
     "cell_type": "markdown",
     "metadata": {},
     "source": [
      "As the results shown above, we find that there are four attributes in summary ratings have important role in deciding the quality of hotel. Thus, we will use these four attributes to do logistic analysis."
     ]
    },
    {
     "cell_type": "code",
     "collapsed": false,
     "input": [
      "# Code for setting the style of the notebook\n",
      "from IPython.core.display import HTML\n",
      "def css_styling():\n",
      "    styles = open(\"../../theme/custom.css\", \"r\").read()\n",
      "    return HTML(styles)\n",
      "css_styling()"
     ],
     "language": "python",
     "metadata": {},
     "outputs": [
      {
       "html": [
        "<link href='http://fonts.googleapis.com/css?family=EB+Garamond' rel='stylesheet' type='text/css'>\n",
        "<link href='http://fonts.googleapis.com/css?family=Alegreya+Sans:100,300,400,500,700,800,900,100italic,300italic,400italic,500italic,700italic,800italic,900italic' rel='stylesheet' type='text/css'>\n",
        "<link href='http://fonts.googleapis.com/css?family=Source+Code+Pro:300,400' rel='stylesheet' type='text/css'>\n",
        "<style>\n",
        "    @font-face {\n",
        "        font-family: \"Computer Modern\";\n",
        "        src: url('http://mirrors.ctan.org/fonts/cm-unicode/fonts/otf/cmunss.otf');\n",
        "    }\n",
        "    .code_cell {\n",
        "        width: 105ex !important ;\n",
        "        margin-bottom: 15px !important;\n",
        "    }\n",
        "    div.cell {\n",
        "        margin-left: auto;\n",
        "        margin-right: auto;\n",
        "        width: 70%;\n",
        "    }    \n",
        "    div.cell.selected {\n",
        "        border: thin rgba(171, 171, 171, 0.5) dashed;\n",
        "    }\n",
        "    h1 {\n",
        "        font-family: 'Alegreya Sans', sans-serif;\n",
        "    }\n",
        "    h2 {\n",
        "        font-family: 'EB Garamond', serif;\n",
        "    }\n",
        "    h3 {\n",
        "        font-family: 'EB Garamond', serif;\n",
        "        margin-top:12px;\n",
        "        margin-bottom: 3px;\n",
        "    }\n",
        "    h4 {\n",
        "        font-family: 'EB Garamond', serif;\n",
        "    }\n",
        "    h5 {\n",
        "        font-family: 'Alegreya Sans', sans-serif;\n",
        "    }\n",
        "    div.text_cell_render {\n",
        "        font-family: 'EB Garamond',Computer Modern, \"Helvetica Neue\", Arial, Helvetica, Geneva, sans-serif;\n",
        "        line-height: 145%;\n",
        "        font-size: 140%;\n",
        "    }\n",
        "    div.input_area {\n",
        "        border-color: rgba(0,0,0,0.10) !important;\n",
        "        background: #fafafa;\n",
        "    }\n",
        "    .CodeMirror {\n",
        "            font-family: \"Source Code Pro\";\n",
        "            font-size: 90%;\n",
        "    }\n",
        "    .prompt {\n",
        "        display: None;\n",
        "    }\n",
        "    .output {\n",
        "        padding-left: 50px;\n",
        "        padding-top: 5px;\n",
        "    }\n",
        "    .output_wrapper {\n",
        "        padding-left: 5px;\n",
        "        padding-top: inherit;\n",
        "    }\n",
        "    div.output_scroll {\n",
        "        width: inherit;\n",
        "    }\n",
        "    .inner_cell {\n",
        "        padding-left: 5px;\n",
        "    }\n",
        "    .text_cell_render h1 {\n",
        "        font-weight: 200;\n",
        "        font-size: 50pt;\n",
        "        line-height: 100%;\n",
        "        color:#CD2305;\n",
        "        margin-bottom: 0.5em;\n",
        "        margin-top: 0.5em;\n",
        "        display: block;\n",
        "    }\n",
        "    .text_cell_render h5 {\n",
        "        font-weight: 300;\n",
        "        font-size: 16pt;\n",
        "        color: #CD2305;\n",
        "        font-style: italic;\n",
        "        margin-bottom: .5em;\n",
        "        margin-top: 0.5em;\n",
        "        display: block;\n",
        "    }\n",
        "    .warning {\n",
        "        color: rgb( 240, 20, 20 )\n",
        "        }  \n",
        "</style>\n",
        "<script>\n",
        "    MathJax.Hub.Config({\n",
        "                        TeX: {\n",
        "                           extensions: [\"AMSmath.js\"]\n",
        "                           },\n",
        "                tex2jax: {\n",
        "                    inlineMath: [ ['$','$'], [\"\\\\(\",\"\\\\)\"] ],\n",
        "                    displayMath: [ ['$$','$$'], [\"\\\\[\",\"\\\\]\"] ]\n",
        "                },\n",
        "                displayAlign: 'center', // Change this to 'center' to center equations.\n",
        "                \"HTML-CSS\": {\n",
        "                    styles: {'.MathJax_Display': {\"margin\": 4}}\n",
        "                }\n",
        "        });\n",
        "</script>"
       ],
       "metadata": {},
       "output_type": "pyout",
       "prompt_number": 70,
       "text": [
        "<IPython.core.display.HTML at 0x7f092df47150>"
       ]
      }
     ],
     "prompt_number": 70
    },
    {
     "cell_type": "code",
     "collapsed": false,
     "input": [],
     "language": "python",
     "metadata": {},
     "outputs": [],
     "prompt_number": 70
    },
    {
     "cell_type": "code",
     "collapsed": false,
     "input": [],
     "language": "python",
     "metadata": {},
     "outputs": []
    }
   ],
   "metadata": {}
  }
 ]
}