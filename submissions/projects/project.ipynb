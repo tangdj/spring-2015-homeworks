{
 "metadata": {
  "name": "",
  "signature": "sha256:bdbbf3a1dd87e83c65543258fd154b0402ca0b9868ffb522247b26813ecf08ec"
 },
 "nbformat": 3,
 "nbformat_minor": 0,
 "worksheets": [
  {
   "cells": [
    {
     "cell_type": "heading",
     "level": 1,
     "metadata": {},
     "source": [
      "Salary Analysis"
     ]
    },
    {
     "cell_type": "code",
     "collapsed": false,
     "input": [
      "import time\n",
      "import numpy as np\n",
      "import scipy as sp\n",
      "import matplotlib.pyplot as plt\n",
      "import pandas as pd\n",
      "import sys\n",
      "import sklearn.datasets as datasets\n",
      "import sklearn.metrics as metrics\n",
      "import scipy.sparse.linalg as linalg\n",
      "import scipy.cluster.hierarchy as hr\n",
      "import sklearn.cluster as cluster\n",
      "from sklearn.decomposition import TruncatedSVD\n",
      "import sklearn.utils as utils\n",
      "from scipy.spatial.distance import pdist, squareform\n",
      "from sklearn.preprocessing import StandardScaler\n",
      "#report matplotlib as mpl\n",
      "import sklearn.svm as svm\n",
      "import sklearn.cross_validation as cross_validation\n",
      "import sklearn.linear_model as linear_model\n",
      "import seaborn as sns\n",
      "from sklearn.cluster import KMeans\n",
      "import numpy as np\n",
      "import gensim\n",
      "import scipy.cluster.hierarchy as hr\n",
      "import scipy.sparse.linalg as linalg\n",
      "%matplotlib inline"
     ],
     "language": "python",
     "metadata": {},
     "outputs": [],
     "prompt_number": 2
    },
    {
     "cell_type": "heading",
     "level": 2,
     "metadata": {},
     "source": [
      "Basic salary information"
     ]
    },
    {
     "cell_type": "markdown",
     "metadata": {},
     "source": [
      "Firstly,we want to learn the salary report to have a general idea about the salary conditions in Boston Area.\n",
      "We use the '2014 Employee Earnings Report' dataset which has the column names like 'Titles', 'Department names' and the different components of salary."
     ]
    },
    {
     "cell_type": "code",
     "collapsed": false,
     "input": [
      "earnings=pd.read_csv('Employee_Earnings_Report_2014.csv')\n",
      "cases={}\n",
      "money={}\n",
      "names={}\n",
      "summation=0\n",
      "for index, row in earnings.iterrows():\n",
      "    row['TOTAL EARNINGS']=row['TOTAL EARNINGS'][1:]\n",
      "    row['REGULAR']=row['REGULAR'][1:]\n",
      "    row['RETRO']=row['RETRO'][1:]\n",
      "    row['OTHER']=row['OTHER'][1:]\n",
      "    row['OVERTIME']=row['OVERTIME'][1:]\n",
      "    row['INJURED']=row['INJURED'][1:]\n",
      "    row['DETAIL']=row['DETAIL'][1:]\n",
      "    row['QUINN']=row['QUINN'][1:]\n",
      "#for NAME, case_data in earnings.groupby(\"DEPARTMENT NAME\"):\n",
      "#       cases[NAME]=case_data.NAME.count()\n",
      "for NAME, case_data in earnings.groupby(\"DEPARTMENT NAME\"):\n",
      "    for index,row in case_data.iterrows():\n",
      "        summation=summation+float(row['TOTAL EARNINGS'])\n",
      "    cases[NAME]=summation/case_data.NAME.count()\n",
      "    summation=0\n",
      "money=sorted(cases.values())\n",
      "#print cases\n",
      "names=sorted(cases,key=lambda x : cases[x])\n",
      "print names[len(names)-10:],len(money)"
     ],
     "language": "python",
     "metadata": {},
     "outputs": [
      {
       "output_type": "stream",
       "stream": "stdout",
       "text": [
        "['BPS Facility Mgmt/A & R', 'BPS High School Renewal', 'Asst Superintendent-Network D', 'Superintendent', 'Boston Police Department', 'Boston Fire Department', 'Asst Superintendent-Network G', 'Asst Superintendent-Network B', 'Asst Superintendent-Network F', 'Asst Superintendent-Network E'] 239\n"
       ]
      }
     ],
     "prompt_number": 3
    },
    {
     "cell_type": "code",
     "collapsed": false,
     "input": [
      "mergedmoney=money[:10]+money[len(money)-10:]\n",
      "mergednames=names[:10]+names[len(names)-10:]\n",
      "dd=pd.DataFrame(mergedmoney,columns=['money'],index=mergednames)\n",
      "dd.plot(kind='barh')"
     ],
     "language": "python",
     "metadata": {},
     "outputs": [
      {
       "metadata": {},
       "output_type": "pyout",
       "prompt_number": 4,
       "text": [
        "<matplotlib.axes._subplots.AxesSubplot at 0x7fd58a7ed3d0>"
       ]
      },
      {
       "metadata": {},
       "output_type": "display_data",
       "png": "[encoded data removed]",
       "text": [
        "<matplotlib.figure.Figure at 0x7fd58b1381d0>"
       ]
      }
     ],
     "prompt_number": 4
    },
    {
     "cell_type": "markdown",
     "metadata": {},
     "source": [
      "We can witness that there are big differences in salaries between the top 10 companies and the last ten companies. What we do next is to figure out the highest salary and the lowest salary in these companies"
     ]
    },
    {
     "cell_type": "code",
     "collapsed": false,
     "input": [
      "cases.clear()\n",
      "cases_small={}\n",
      "mergedmoney=[]\n",
      "mergedsmall=[]\n",
      "maximum=0\n",
      "minimum=sys.maxint\n",
      "for NAME, case_data in earnings.groupby(\"DEPARTMENT NAME\"):\n",
      "    for index,row in case_data.iterrows():\n",
      "        if maximum< float(row['TOTAL EARNINGS']):\n",
      "            maximum=float(row['TOTAL EARNINGS'])\n",
      "        if minimum> float(row['TOTAL EARNINGS']):\n",
      "            minimum=float(row['TOTAL EARNINGS'])\n",
      "    cases[NAME]=maximum\n",
      "    cases_small[NAME]=minimum\n",
      "    maximum=0\n",
      "    minimum=sys.maxint\n",
      "for i in range(len(mergednames)):\n",
      "    mergedmoney.append(cases[mergednames[i]])\n",
      "    mergedsmall.append(cases_small[mergednames[i]])\n",
      "dd=pd.DataFrame({'max_money':mergedmoney,'min_money':mergedsmall},columns=['max_money','min_money'],index=mergednames)\n",
      "dd.plot(kind='bar')"
     ],
     "language": "python",
     "metadata": {},
     "outputs": [
      {
       "metadata": {},
       "output_type": "pyout",
       "prompt_number": 5,
       "text": [
        "<matplotlib.axes._subplots.AxesSubplot at 0x7fd58a69c650>"
       ]
      },
      {
       "metadata": {},
       "output_type": "display_data",
       "png": "[encoded data removed]",
       "text": [
        "<matplotlib.figure.Figure at 0x7fd58b00ffd0>"
       ]
      }
     ],
     "prompt_number": 5
    },
    {
     "cell_type": "markdown",
     "metadata": {},
     "source": [
      "We can categorize top 10 companies into two categories: one company with comparatively high base salary and the other where the salary distribution is not quite even. Later, we will go to the police department to research on this salary distribution to see which positions earn more than the others."
     ]
    },
    {
     "cell_type": "heading",
     "level": 2,
     "metadata": {},
     "source": [
      "Salary conditions for Boston Police analysis"
     ]
    },
    {
     "cell_type": "code",
     "collapsed": false,
     "input": [
      "from sklearn import preprocessing\n",
      "import numpy as np\n",
      "import sklearn.metrics as metrics\n",
      "earnings_fire=earnings[earnings['DEPARTMENT NAME']==\"Boston Police Department\"]\n",
      "#for index, row in earnings_fire.iterrows():\n",
      "#    row['REGULAR']=row['REGULAR'][1:]\n",
      "#    row['RETRO']=row['RETRO'][1:]\n",
      "#    row['OTHER']=row['OTHER'][1:]\n",
      "#    row['OVERTIME']=row['OVERTIME'][1:]\n",
      "#    row['INJURED']=row['INJURED'][1:]\n",
      "#    row['DETAIL']=row['DETAIL'][1:]\n",
      "#    row['QUINN']=row['QUINN'][1:]\n",
      "job=earnings_fire['TITLE'].tolist()\n",
      "job=np.array(job)\n",
      "fire=earnings_fire[['REGULAR','RETRO','OTHER','OVERTIME','INJURED','DETAIL','QUINN']]\n",
      "scalerX=preprocessing.StandardScaler().fit(fire)\n",
      "fire=scalerX.transform(fire)\n",
      "print fire.shape,type(job)"
     ],
     "language": "python",
     "metadata": {},
     "outputs": [
      {
       "output_type": "stream",
       "stream": "stdout",
       "text": [
        "(3178, 7) <type 'numpy.ndarray'>\n"
       ]
      },
      {
       "output_type": "stream",
       "stream": "stderr",
       "text": [
        "/home/tangdj/anaconda/lib/python2.7/site-packages/sklearn/utils/validation.py:332: UserWarning: StandardScaler assumes floating point values as input, got object\n",
        "  \"got %s\" % (estimator, X.dtype))\n"
       ]
      }
     ],
     "prompt_number": 6
    },
    {
     "cell_type": "code",
     "collapsed": false,
     "input": [
      "error = np.zeros(40)\n",
      "error[0] = 0;\n",
      "for k in range(1,40):\n",
      "    kmeans = KMeans(init='k-means++', n_clusters=k, n_init=10)\n",
      "    kmeans.fit_predict(fire)\n",
      "    error[k] = kmeans.inertia_\n",
      "\n",
      "plt.plot(range(1,len(error)),error[1:])\n",
      "plt.xlabel('Number of clusters')\n",
      "plt.ylabel('Error')"
     ],
     "language": "python",
     "metadata": {},
     "outputs": [
      {
       "metadata": {},
       "output_type": "pyout",
       "prompt_number": 7,
       "text": [
        "<matplotlib.text.Text at 0x7fd58a409890>"
       ]
      },
      {
       "metadata": {},
       "output_type": "display_data",
       "png": "[encoded data removed]",
       "text": [
        "<matplotlib.figure.Figure at 0x7fd58a657b50>"
       ]
      }
     ],
     "prompt_number": 7
    },
    {
     "cell_type": "code",
     "collapsed": false,
     "input": [
      "#fig, ax = plt.subplots(1,1,figsize=(10,10))\n",
      "lists=[]\n",
      "position=[]\n",
      "index=0\n",
      "maximum=0\n",
      "minimum=sys.maxint\n",
      "index_min=0\n",
      "#cmap = sns.color_palette(\"bright\", n_colors=4)\n",
      "#cmap.extend(sns.hls_palette(n_colors=11, h=0.7, l=0.4, s=0.8))\n",
      "kmeans = KMeans(init='k-means++', n_clusters=15, n_init=10)\n",
      "kmeans.fit_predict(fire)\n",
      "labels = kmeans.labels_\n",
      "centroids = kmeans.cluster_centers_\n",
      "for i in range(len(centroids)):\n",
      "    temp=sum(centroids[i])\n",
      "    if temp > maximum:\n",
      "        maximum=temp\n",
      "        index=i\n",
      "for i in range(len(centroids)):\n",
      "    temp=sum(centroids[i])\n",
      "    if temp < minimum:\n",
      "        minimum=temp\n",
      "        index_min=i\n",
      " \n",
      "for i, label in enumerate(set(labels)):\n",
      "    point_indices = np.where(labels == label)[0]\n",
      "    point_indices = point_indices.tolist()\n",
      "    lists.append(job[point_indices])\n",
      "print set(lists[index_min]),len(set(lists[index_min]))\n",
      "    #plt.scatter(fire[point_indices,0], fire[point_indices,1], s=25, alpha=0.2, c=cmap[i], marker='+')"
     ],
     "language": "python",
     "metadata": {},
     "outputs": [
      {
       "output_type": "stream",
       "stream": "stdout",
       "text": [
        "set(['Communic. EquipOp II 9II(SS)', 'ChCommEquipOper I (SCTT)', 'Police Lieutenant', 'Police Lieutenant (Det)', 'CommunEquipOp III, R-13 (CT)', 'Head Clerk & Secretary', 'Police Detective', 'Police Lieut (Det)', 'Collection Agent(Bpd)', 'Police Officer Hdq Dispatch', 'Police Offc Acad Instr 2$6', 'Asst Prin Accountant', 'Jr  Building Custodian', 'Criminalist II', 'ACC - Attorney', 'Police Offc Mobile Offc 2$6', 'Sr Accountant', 'Police Captain-DDC/HRCD', 'Police Officer', 'Police Offc/Auto Invest 4$10', 'Police Offc Hackney Invest 3$8', 'Head Clerk', 'Police Captain (Det)', 'Lab Tech##', 'Liaison Agent (BPD)', 'Chaplain', 'Police Sergeant/CHF RADIO DISP', 'Police Sergeant', 'Police Captain/DDC', 'Police Sergeant/FgrPrt Ev Tech', 'Police Offc/Bomb Squad', 'Police Dispatcher', 'Sr Personnel Officer II', 'Student Intern', 'Statistical Analyst(Bpd)', 'Police Offc Comm Serv Offc 3$8', 'Police Offc Harborboat 3$8', 'Police Offc/Juvenile Offc 4$10', 'Jr Building Custodian', 'Prin Research Analyst', 'Exec Asst', 'Police Sergeant/Comm Serv Offc', 'Police Offc Ballistician 4$10', 'School Traffic Supv', 'Interpreter', 'Police Sergeant (Det)', 'Police Clerk And Typist', 'PoliceSergeant/SupvCourtCases']) 48\n"
       ]
      }
     ],
     "prompt_number": 8
    },
    {
     "cell_type": "markdown",
     "metadata": {},
     "source": [
      "We can witness that Most of positions which earn less tend to do nothing with the police. However, there are some positions which do have relations with the police but still earn less. "
     ]
    },
    {
     "cell_type": "markdown",
     "metadata": {},
     "source": [
      "In order to figure this out, we look into the original dataset. We find that there are several people working for the same positions but only one of them earn much less than the others. In addition, we figure out that all these people who earn less tend to earn less don't have base salary. "
     ]
    },
    {
     "cell_type": "markdown",
     "metadata": {},
     "source": [
      "In order to  figure it out, we go to the some job websites and we find that all police have to go to a training period before going to work and during that training period, they are not paid normaly. So these guys may be receiving training. Thus, they cannot be considered as low-paid positions."
     ]
    },
    {
     "cell_type": "markdown",
     "metadata": {},
     "source": [
      "Later, we want to figure out which salary component mainly contribute to police's high salary"
     ]
    },
    {
     "cell_type": "code",
     "collapsed": false,
     "input": [
      "from sklearn.decomposition import TruncatedSVD\n",
      "from sklearn.preprocessing import StandardScaler\n",
      "import statsmodels.api as sm\n",
      "from patsy import dmatrices\n",
      "money=earnings_fire[['REGULAR','RETRO','OTHER','OVERTIME','INJURED','DETAIL','QUINN','TOTAL EARNINGS']]\n",
      "scalerX=preprocessing.StandardScaler().fit(money)\n",
      "money=scalerX.transform(money)\n",
      "regular=[]\n",
      "total=[]\n",
      "for i in range(len(money)):\n",
      "    temp=[]\n",
      "   # print money[i]\n",
      "    for j in range(7):\n",
      "        temp.append(money[i][j])\n",
      "    regular.append(temp)\n",
      "    total.append(money[i][7])\n",
      "y=np.array(total)\n",
      "X=np.array(regular)\n",
      "print X.shape, y.shape\n",
      "X, y = utils.shuffle(X, y, random_state=1)\n",
      "model = sm.OLS(y, X)\n",
      "results = model.fit()\n",
      "print results.params\n",
      "#plt.scatter(X,y, c=\"slategray\")\n",
      "#plt.plot(X,results.params[0]*X, c='seagreen', alpha=0.8)"
     ],
     "language": "python",
     "metadata": {},
     "outputs": [
      {
       "output_type": "stream",
       "stream": "stdout",
       "text": [
        "(3178, 7) (3178,)\n",
        "[ 0.48760163  0.13697209  0.11413518  0.30508024  0.16342584  0.25119742\n",
        "  0.09695424]"
       ]
      },
      {
       "output_type": "stream",
       "stream": "stdout",
       "text": [
        "\n"
       ]
      }
     ],
     "prompt_number": 9
    },
    {
     "cell_type": "markdown",
     "metadata": {},
     "source": [
      "We can witness that high regular salary and long time work contribute to police's high salary"
     ]
    },
    {
     "cell_type": "markdown",
     "metadata": {},
     "source": [
      "We will use the svm to double-check our results"
     ]
    },
    {
     "cell_type": "markdown",
     "metadata": {},
     "source": [
      "As shown above, regular proportion and overtime proportion are top two greatest proportion for salary. Thus, we use these two columns as input of svm to reprove our results using K-means"
     ]
    },
    {
     "cell_type": "code",
     "collapsed": false,
     "input": [
      "relevance=[]\n",
      "for index, row in earnings_fire.iterrows():\n",
      "    if \"Police\" in row[\"TITLE\"]:\n",
      "        relevance.append(1)\n",
      "    else:\n",
      "        relevance.append(0)\n",
      "earnings_fire[\"RELEVANCE\"]=relevance"
     ],
     "language": "python",
     "metadata": {},
     "outputs": [
      {
       "output_type": "stream",
       "stream": "stderr",
       "text": [
        "-c:7: SettingWithCopyWarning: \n",
        "A value is trying to be set on a copy of a slice from a DataFrame.\n",
        "Try using .loc[row_indexer,col_indexer] = value instead\n",
        "\n",
        "See the the caveats in the documentation: http://pandas.pydata.org/pandas-docs/stable/indexing.html#indexing-view-versus-copy\n"
       ]
      }
     ],
     "prompt_number": 10
    },
    {
     "cell_type": "code",
     "collapsed": false,
     "input": [
      "from sklearn.grid_search import GridSearchCV\n",
      "from sklearn.ensemble import AdaBoostClassifier\n",
      "X=earnings_fire[['REGULAR','OVERTIME']]\n",
      "scalerX=preprocessing.StandardScaler().fit(X)\n",
      "X=scalerX.transform(X)\n",
      "y=np.array(relevance)\n",
      "X_train, X_test, y_train, y_test = cross_validation.train_test_split(X, y, test_size=0.4, random_state=0)"
     ],
     "language": "python",
     "metadata": {},
     "outputs": [],
     "prompt_number": 11
    },
    {
     "cell_type": "code",
     "collapsed": false,
     "input": [
      "f = svm.SVC(kernel='rbf', C=1)\n",
      "f.fit(X_train, y_train)\n",
      "f.score(X_test, y_test)"
     ],
     "language": "python",
     "metadata": {},
     "outputs": [
      {
       "metadata": {},
       "output_type": "pyout",
       "prompt_number": 12,
       "text": [
        "0.88286163522012584"
       ]
      }
     ],
     "prompt_number": 12
    },
    {
     "cell_type": "code",
     "collapsed": false,
     "input": [
      "#X=X.values\n",
      "#X=X.astype(float)\n",
      "scalerX=preprocessing.StandardScaler().fit(X)\n",
      "X=scalerX.transform(X)\n",
      "#print type(X),X.shape\n",
      "svc = svm.SVC(kernel='rbf',C=1)\n",
      "svc.fit(X, y)"
     ],
     "language": "python",
     "metadata": {},
     "outputs": [
      {
       "metadata": {},
       "output_type": "pyout",
       "prompt_number": 13,
       "text": [
        "SVC(C=1, cache_size=200, class_weight=None, coef0=0.0, degree=3, gamma=0.0,\n",
        "  kernel='rbf', max_iter=-1, probability=False, random_state=None,\n",
        "  shrinking=True, tol=0.001, verbose=False)"
       ]
      }
     ],
     "prompt_number": 13
    },
    {
     "cell_type": "code",
     "collapsed": false,
     "input": [
      "from matplotlib.colors import ListedColormap\n",
      "# Create color maps for 3-class classification problem, as with iris\n",
      "cmap_light = ListedColormap(['#FFAAAA', '#AAFFAA', '#AAAAFF'])\n",
      "cmap_bold = ListedColormap(['#FF0000', '#00FF00', '#0000FF'])\n",
      "\n",
      "def plot_estimator(X, y, estimator):\n",
      "    \n",
      "    try:\n",
      "        X, y = X.values, y.values\n",
      "    except AttributeError:\n",
      "        pass\n",
      "    \n",
      "    estimator.fit(X, y)\n",
      "    x_min, x_max = X[:, 0].min() - .1, X[:, 0].max() + .1\n",
      "    y_min, y_max = X[:, 1].min() - .1, X[:, 1].max() + .1\n",
      " #    print x_min,y_min,x_max,y_max\n",
      "    xx, yy = np.meshgrid(np.linspace(x_min, x_max, 300),\n",
      "                         np.linspace(y_min, y_max, 300))\n",
      "  #  xx=np.linspace(x_min,x_max,3000)\n",
      "  #  yy=np.linspace(y_min,y_max,3000)\n",
      "  #  print xx, yy\n",
      "    Z = estimator.predict(np.c_[xx.ravel(), yy.ravel()])\n",
      "    # Put the result into a color plot\n",
      "    Z = Z.reshape(xx.shape)\n",
      "    plt.figure()\n",
      "    plt.pcolormesh(xx, yy, Z, cmap=cmap_light)\n",
      "\n",
      "    # Plot also the training points\n",
      "    plt.scatter(X[:, 0], X[:, 1], c=y, cmap=cmap_bold)\n",
      "    plt.axis('tight')\n",
      "    plt.axis('off')\n",
      "    plt.tight_layout()"
     ],
     "language": "python",
     "metadata": {},
     "outputs": [],
     "prompt_number": 14
    },
    {
     "cell_type": "code",
     "collapsed": false,
     "input": [
      "plot_estimator(X,y,svc)"
     ],
     "language": "python",
     "metadata": {},
     "outputs": [
      {
       "metadata": {},
       "output_type": "display_data",
       "png": "[encoded data removed]",
       "text": [
        "<matplotlib.figure.Figure at 0x7fd58a79f890>"
       ]
      }
     ],
     "prompt_number": 15
    },
    {
     "cell_type": "markdown",
     "metadata": {},
     "source": [
      "We can witness that even though policemen tend to have a higher salary than the others but they also have a long time work.Givien this, maybe some people don't like this job even though it has a very high salary. Later, we will use linear regression to analyze the top 10 high-salary industries to find out the characteristics of each company."
     ]
    },
    {
     "cell_type": "code",
     "collapsed": false,
     "input": [
      "topnames=names[len(names)-10:]\n",
      "newnames=names\n",
      "regular1=[]\n",
      "retro=[]\n",
      "other=[]\n",
      "overtime=[]\n",
      "injured=[]\n",
      "detail=[]\n",
      "quinn=[]\n",
      "for i in range(len(topnames)):\n",
      "    earnings_industry=earnings[earnings['DEPARTMENT NAME']==topnames[i]]\n",
      "    money=earnings_industry[['REGULAR','RETRO','OTHER','OVERTIME','INJURED','DETAIL','QUINN','TOTAL EARNINGS']]\n",
      "    scalerX=preprocessing.StandardScaler().fit(money)\n",
      "    money=scalerX.transform(money)\n",
      "    regular=[]\n",
      "    total=[]\n",
      "    for k in range(len(money)):\n",
      "        temp=[]\n",
      "        for j in range(7):\n",
      "            temp.append(money[k][j])\n",
      "        regular.append(temp)\n",
      "        total.append(money[k][7])\n",
      "    y=np.array(total)\n",
      "    X=np.array(regular)\n",
      "    X, y = utils.shuffle(X, y, random_state=1)\n",
      "    if len(X)!=1:\n",
      "        model = sm.OLS(y, X)\n",
      "        results = model.fit()\n",
      "        regular1.append(results.params[0])\n",
      "        retro.append(results.params[1])\n",
      "        other.append(results.params[2])\n",
      "        overtime.append(results.params[3])\n",
      "        injured.append(results.params[4])\n",
      "        detail.append(results.params[5])\n",
      "        quinn.append(results.params[6])\n",
      "    else:\n",
      "        newnames.pop(i)\n",
      "    #print names[i]\n",
      "#print len(regular1)\n",
      "dd=pd.DataFrame({'regular':regular1,'retro':retro,'other':other,'overtime':overtime,'injured':injured,'detail':detail,'quinn':quinn},columns=['regular','retro','other','overtime','injured','detail','quinn'],index=topnames)\n",
      "dd.plot(kind='bar')"
     ],
     "language": "python",
     "metadata": {},
     "outputs": [
      {
       "metadata": {},
       "output_type": "pyout",
       "prompt_number": 15,
       "text": [
        "<matplotlib.axes._subplots.AxesSubplot at 0x7f550b67f610>"
       ]
      },
      {
       "metadata": {},
       "output_type": "display_data",
       "png": "[encoded data removed]",
       "text": [
        "<matplotlib.figure.Figure at 0x7f550b67f110>"
       ]
      }
     ],
     "prompt_number": 15
    },
    {
     "cell_type": "markdown",
     "metadata": {},
     "source": [
      "We find that for top 10 industries, they have completely different components of income. For Boston High School Renewal, regular salary counts for everything which means that this department has a very high salary threshold and a very stable environment but a very narrow space to get promoted. While for the Boston Police Department, even though you still get well-paid but it is a hard-working job because you have to work for long hours."
     ]
    },
    {
     "cell_type": "markdown",
     "metadata": {},
     "source": [
      "Later, we will find the same characters among the occupations which earned most. "
     ]
    },
    {
     "cell_type": "code",
     "collapsed": false,
     "input": [
      "def tokenize(text):\n",
      "    return [token for token in simple_preprocess(text) if token not in STOPWORDS]"
     ],
     "language": "python",
     "metadata": {},
     "outputs": [],
     "prompt_number": 16
    },
    {
     "cell_type": "markdown",
     "metadata": {},
     "source": [
      "Later, we want to figure out the requirements for these high-paid jobs"
     ]
    },
    {
     "cell_type": "code",
     "collapsed": false,
     "input": [
      "from gensim.utils import smart_open, simple_preprocess\n",
      "from gensim.corpora.wikicorpus import _extract_pages, filter_wiki\n",
      "from gensim.parsing.preprocessing import STOPWORDS\n",
      "from collections import Counter\n",
      "cases={}\n",
      "total_names=\"\"\n",
      "total=[]\n",
      "tokens=[]\n",
      "money=earnings[[\"TITLE\",\"TOTAL EARNINGS\"]]\n",
      "total=money[\"TOTAL EARNINGS\"].tolist()\n",
      "total=list(map(float,total))\n",
      "money=dict(zip(money[\"TITLE\"].tolist(),total))\n",
      "#result=sorted(money.values())\n",
      "#print result[:10]\n",
      "money1=sorted(money,key=lambda x : money[x])\n",
      "money=sorted(money,key=lambda x : money[x],reverse=True)\n",
      "#print money[:10]\n",
      "total_names=total_names+\",\".join(money[:len(money)/3])\n",
      "tokens=tokenize(total_names)\n",
      "#print tokens\n",
      "#%time id2word_wiki = gensim.corpora.Dictionary(tokens)\n",
      "cases=Counter(tokens)\n",
      "cases = {k: v for k, v in cases.iteritems() if v >10}\n",
      "money=earnings[\"DEPARTMENT NAME\"].tolist()\n",
      "tempdic={}\n",
      "#print tempdic['ff']\n",
      "symbol=1\n",
      "for key in cases:\n",
      "    for i in range(len(money)):\n",
      "        if key in money[i]:\n",
      "            symbol=0\n",
      "            break\n",
      "    if symbol==1:\n",
      "        tempdic[key]=cases[key]\n",
      "    else:\n",
      "        symbol=1\n",
      "#print tempdic\n",
      "#tempdic[\"officer\"]=tempdic[\"officer\"]+tempdic[\"offc\"]\n",
      "#del tempdic[\"offc\"]\n",
      "#tempdic[\"director\"]=tempdic[\"director\"]+tempdic[\"dir\"]\n",
      "#del tempdic[\"dir\"]\n",
      "#tempdic[\"sr\"]=tempdic[\"sr\"]+tempdic[\"sen\"]\n",
      "#del tempdic[\"sen\"]\n",
      "titles=sorted(tempdic,key=lambda x : tempdic[x],reverse=True)\n",
      "titles[10]=\"senior\"\n",
      "print titles"
     ],
     "language": "python",
     "metadata": {},
     "outputs": [
      {
       "output_type": "stream",
       "stream": "stdout",
       "text": [
        "[u'asst', u'chief', u'police', u'supv', u'director', u'dir', u'sr', u'exec', u'admin', u'offc', 'senior', u'manager', u'officer', u'supn', u'bpd', u'engineer', u'prin', u'coordinator', u'sergeant']\n"
       ]
      }
     ],
     "prompt_number": 17
    },
    {
     "cell_type": "heading",
     "level": 2,
     "metadata": {},
     "source": [
      "Requirements for high-salary work "
     ]
    },
    {
     "cell_type": "markdown",
     "metadata": {},
     "source": [
      "Based on the conlusions we get above, we now decided to figure out what kind of requirements they need to get well paid"
     ]
    },
    {
     "cell_type": "markdown",
     "metadata": {},
     "source": [
      "The first is the position requirements"
     ]
    },
    {
     "cell_type": "code",
     "collapsed": false,
     "input": [
      "from scipy.cluster.hierarchy import linkage, dendrogram\n",
      "careers=pd.read_csv('careers_re.csv')\n",
      "#print careers\n",
      "careers[\"Median annual wage, 2012 (1)\"]=careers[\"Median annual wage, 2012 (1)\"].str.lstrip('$').str.replace(\",\",\"\")\n",
      "    #print index\n",
      "#print careers[\"Typical education needed for entry  \"\n",
      "#lists=careers[\"Median annual wage, 2012 (1)\"].tolist()\n",
      "mm=[]\n",
      "for i in careers[\"Median annual wage, 2012 (1)\"].tolist():\n",
      "    #print ipw\n",
      "    if i =='\u2014 ':\n",
      "        i=0\n",
      "    elif i[0]=='>':\n",
      "        i=int(i[3:])\n",
      "    else:\n",
      "        i=int(i)\n",
      "    mm.append(i)\n",
      "lists=[1]\n",
      "lists=lists*len(mm)\n",
      "#print mm,X.shape\n",
      "X=zip(mm,lists)\n",
      "#print X\n",
      "X=pdist(X)\n",
      "print X\n",
      "Z = linkage(X, method='complete')\n",
      "R = dendrogram(Z)"
     ],
     "language": "python",
     "metadata": {},
     "outputs": [
      {
       "output_type": "stream",
       "stream": "stdout",
       "text": [
        "[  59160.   64800.  133390. ...,    8010.   14790.    6780.]\n"
       ]
      },
      {
       "metadata": {},
       "output_type": "display_data",
       "png": "[encoded data removed]",
       "text": [
        "<matplotlib.figure.Figure at 0x7fd585b5a4d0>"
       ]
      }
     ],
     "prompt_number": 20
    },
    {
     "cell_type": "code",
     "collapsed": false,
     "input": [
      "ck = hr.fcluster(hr.linkage(X , method='complete'), 150000,'distance')\n",
      "careers[\"level\"]=ck\n",
      "careers[\"level\"]=careers[\"level\"]-1"
     ],
     "language": "python",
     "metadata": {},
     "outputs": [],
     "prompt_number": 23
    },
    {
     "cell_type": "code",
     "collapsed": false,
     "input": [
      "from patsy import dmatrices,dmatrix\n",
      "career=careers[[\"Education\",\"Occupation\",\"Training\"]]\n",
      "#career.columns=[\"Education\",\"Occupation\",\"Training\"]\n",
      "#print career[career[\"Occupation\"]==\"5 years or more\"]\n",
      "X = dmatrix('C(Education)+C(Occupation)+C(Training)',careers, return_type=\"dataframe\")\n",
      "occupation=[]\n",
      "for i in career[\"Occupation\"]:\n",
      "    if i==\"5 years or more\":\n",
      "        occupation.append(1)\n",
      "    else:\n",
      "        occupation.append(0)\n",
      "X[\"C(Occupation)[T.5 years or more]\"]=occupation\n",
      "print X.columns"
     ],
     "language": "python",
     "metadata": {},
     "outputs": [
      {
       "output_type": "stream",
       "stream": "stdout",
       "text": [
        "Index([u'Intercept', u'C(Education)[T.Bachelor's degree]', u'C(Education)[T.Doctoral or professional degree]', u'C(Education)[T.High school diploma or equivalent]', u'C(Education)[T.Less than high school]', u'C(Education)[T.Master's degree]', u'C(Education)[T.Postsecondary non-degree award]', u'C(Education)[T.Some college, no degree]', u'C(Education)[T.\u2014 ]', u'C(Occupation)[T.Less than 5 years]', u'C(Occupation)[T.None]', u'C(Occupation)[T.\u2014 ]', u'C(Training)[T.Internship/residency]', u'C(Training)[T.Long-term on-the-job training]', u'C(Training)[T.Moderate-term on-the-job training]', u'C(Training)[T.None]', u'C(Training)[T.Short-term on-the-job training]', u'C(Training)[T.\u2014 ]', u'C(Occupation)[T.5 years or more]'], dtype='object')\n"
       ]
      }
     ],
     "prompt_number": 24
    },
    {
     "cell_type": "code",
     "collapsed": false,
     "input": [
      "y=careers[\"level\"].tolist()\n",
      "y=np.ravel(y)\n",
      "print y.shape"
     ],
     "language": "python",
     "metadata": {},
     "outputs": [
      {
       "output_type": "stream",
       "stream": "stdout",
       "text": [
        "(1091,)\n"
       ]
      }
     ],
     "prompt_number": 25
    },
    {
     "cell_type": "code",
     "collapsed": false,
     "input": [
      "X_train, X_test, y_train, y_test = cross_validation.train_test_split(X,\n",
      "                                                                     y,\n",
      "                                                                     test_size=0.3,\n",
      "                                                                     random_state=0\n",
      "                                                                     )\n",
      "logistic_regr = linear_model.LogisticRegression()\n",
      "logistic_regr.fit(X_train, y_train)"
     ],
     "language": "python",
     "metadata": {},
     "outputs": [
      {
       "metadata": {},
       "output_type": "pyout",
       "prompt_number": 26,
       "text": [
        "LogisticRegression(C=1.0, class_weight=None, dual=False, fit_intercept=True,\n",
        "          intercept_scaling=1, penalty='l2', random_state=None, tol=0.0001)"
       ]
      }
     ],
     "prompt_number": 26
    },
    {
     "cell_type": "code",
     "collapsed": false,
     "input": [
      "y_predicted = logistic_regr.predict(X_test)\n",
      "print y_predicted"
     ],
     "language": "python",
     "metadata": {},
     "outputs": [
      {
       "output_type": "stream",
       "stream": "stdout",
       "text": [
        "[1 0 0 0 0 0 1 0 0 0 0 0 1 0 0 0 0 0 0 0 0 0 1 0 0 0 0 0 0 0 1 0 0 0 0 1 0\n",
        " 0 0 1 0 0 0 0 0 0 0 0 0 0 0 0 0 0 0 0 0 0 0 0 0 0 0 0 0 0 0 0 0 0 0 0 0 0\n",
        " 0 1 0 0 0 0 0 0 1 0 0 0 1 0 0 0 0 0 0 0 0 0 0 0 0 0 0 0 0 0 0 0 0 0 0 0 0\n",
        " 0 0 0 1 0 0 0 0 0 0 0 0 0 0 0 0 0 0 0 1 0 0 0 0 0 0 0 0 0 0 0 0 0 0 1 0 1\n",
        " 0 1 0 0 0 0 0 1 1 0 0 0 0 0 0 0 0 0 1 0 1 0 0 0 0 0 1 1 0 0 0 0 0 0 0 0 0\n",
        " 0 0 0 0 0 0 0 0 0 0 0 0 0 0 0 0 0 0 0 0 0 0 0 0 0 0 0 0 0 0 0 0 0 0 0 0 0\n",
        " 0 0 0 0 0 1 1 0 1 1 0 0 0 0 0 0 0 0 0 0 0 0 0 0 0 0 0 0 0 0 0 0 0 0 0 0 0\n",
        " 0 0 0 0 0 0 0 0 0 1 0 0 0 0 1 0 0 0 0 0 0 0 0 0 0 0 0 0 0 0 0 1 0 0 0 0 0\n",
        " 0 0 0 0 0 0 0 0 0 1 1 0 0 0 0 0 0 0 0 0 0 0 0 0 1 0 1 0 0 0 0 0]\n"
       ]
      }
     ],
     "prompt_number": 27
    },
    {
     "cell_type": "code",
     "collapsed": false,
     "input": [
      "print metrics.accuracy_score(y_test, y_predicted)"
     ],
     "language": "python",
     "metadata": {},
     "outputs": [
      {
       "output_type": "stream",
       "stream": "stdout",
       "text": [
        "0.875\n"
       ]
      }
     ],
     "prompt_number": 28
    },
    {
     "cell_type": "code",
     "collapsed": false,
     "input": [
      "print pd.DataFrame(zip(X.columns, np.transpose(logistic_regr.coef_)))"
     ],
     "language": "python",
     "metadata": {},
     "outputs": [
      {
       "output_type": "stream",
       "stream": "stdout",
       "text": [
        "                                                    0                  1\n",
        "0                                           Intercept  [-0.486166348074]\n",
        "1                   C(Education)[T.Bachelor's degree]    [1.56057304965]\n",
        "2     C(Education)[T.Doctoral or professional degree]    [2.54961076211]\n",
        "3   C(Education)[T.High school diploma or equivalent]   [-1.23219593117]\n",
        "4               C(Education)[T.Less than high school]   [-1.29546680737]\n",
        "5                     C(Education)[T.Master's degree]   [0.792845201104]\n",
        "6      C(Education)[T.Postsecondary non-degree award]  [-0.767285578645]\n",
        "7             C(Education)[T.Some college, no degree]  [-0.288665966381]\n",
        "8                                  C(Education)[T.\u2014 ]  [-0.147934309031]\n",
        "9                  C(Occupation)[T.Less than 5 years]   [-0.23489450657]\n",
        "10                              C(Occupation)[T.None]   [-1.00446478212]\n",
        "11                                C(Occupation)[T.\u2014 ]  [-0.147934309031]\n",
        "12                C(Training)[T.Internship/residency]   [0.226527149692]\n",
        "13       C(Training)[T.Long-term on-the-job training]   [0.259141740606]\n",
        "14   C(Training)[T.Moderate-term on-the-job training]  [-0.514896101946]\n",
        "15                                C(Training)[T.None]   [0.192647468644]\n",
        "16      C(Training)[T.Short-term on-the-job training]   [-1.03345958267]\n",
        "17                                  C(Training)[T.\u2014 ]  [-0.147934309031]\n",
        "18                   C(Occupation)[T.5 years or more]   [0.901127249651]\n"
       ]
      }
     ],
     "prompt_number": 29
    },
    {
     "cell_type": "markdown",
     "metadata": {},
     "source": [
      "This is about the industry requirements"
     ]
    },
    {
     "cell_type": "code",
     "collapsed": false,
     "input": [
      "high_salary=careers[(careers[\"Employee code\"].str.contains(\"11-\"))|(careers[\"Employee code\"].str.contains(\"17-\"))|(careers[\"Employee code\"].str.contains(\"33-\"))]\n",
      "X = dmatrix('C(Education)+C(Occupation)+C(Training)',high_salary, return_type=\"dataframe\")\n",
      "occupation=[]\n",
      "for i in high_salary[\"Occupation\"]:\n",
      "    if i==\"5 years or more\":\n",
      "        occupation.append(1)\n",
      "    else:\n",
      "        occupation.append(0)\n",
      "X[\"C(Occupation)[T.5 years or more]\"]=occupation\n",
      "print X.columns"
     ],
     "language": "python",
     "metadata": {},
     "outputs": [
      {
       "output_type": "stream",
       "stream": "stdout",
       "text": [
        "Index([u'Intercept', u'C(Education)[T.Bachelor's degree]', u'C(Education)[T.High school diploma or equivalent]', u'C(Education)[T.Master's degree]', u'C(Education)[T.Postsecondary non-degree award]', u'C(Education)[T.\u2014 ]', u'C(Occupation)[T.Less than 5 years]', u'C(Occupation)[T.None]', u'C(Occupation)[T.\u2014 ]', u'C(Training)[T.Long-term on-the-job training]', u'C(Training)[T.Moderate-term on-the-job training]', u'C(Training)[T.None]', u'C(Training)[T.Short-term on-the-job training]', u'C(Training)[T.\u2014 ]', u'C(Occupation)[T.5 years or more]'], dtype='object')\n"
       ]
      }
     ],
     "prompt_number": 30
    },
    {
     "cell_type": "code",
     "collapsed": false,
     "input": [
      "y=high_salary[\"level\"].tolist()\n",
      "y=np.ravel(y)\n",
      "print y.shape"
     ],
     "language": "python",
     "metadata": {},
     "outputs": [
      {
       "output_type": "stream",
       "stream": "stdout",
       "text": [
        "(119,)\n"
       ]
      }
     ],
     "prompt_number": 31
    },
    {
     "cell_type": "code",
     "collapsed": false,
     "input": [
      "X_train, X_test, y_train, y_test = cross_validation.train_test_split(X,\n",
      "                                                                     y,\n",
      "                                                                     test_size=0.3,\n",
      "                                                                     random_state=0\n",
      "                                                                     )\n",
      "logistic_regr = linear_model.LogisticRegression()\n",
      "logistic_regr.fit(X_train, y_train)"
     ],
     "language": "python",
     "metadata": {},
     "outputs": [
      {
       "metadata": {},
       "output_type": "pyout",
       "prompt_number": 32,
       "text": [
        "LogisticRegression(C=1.0, class_weight=None, dual=False, fit_intercept=True,\n",
        "          intercept_scaling=1, penalty='l2', random_state=None, tol=0.0001)"
       ]
      }
     ],
     "prompt_number": 32
    },
    {
     "cell_type": "code",
     "collapsed": false,
     "input": [
      "y_predicted = logistic_regr.predict(X_test)\n",
      "print y_predicted"
     ],
     "language": "python",
     "metadata": {},
     "outputs": [
      {
       "output_type": "stream",
       "stream": "stdout",
       "text": [
        "[1 0 0 1 0 0 0 1 1 0 0 1 1 0 0 0 0 0 0 0 1 1 1 0 0 1 1 0 1 1 1 0 0 1 1 0]\n"
       ]
      }
     ],
     "prompt_number": 33
    },
    {
     "cell_type": "code",
     "collapsed": false,
     "input": [
      "print metrics.accuracy_score(y_test, y_predicted)"
     ],
     "language": "python",
     "metadata": {},
     "outputs": [
      {
       "output_type": "stream",
       "stream": "stdout",
       "text": [
        "0.805555555556\n"
       ]
      }
     ],
     "prompt_number": 34
    },
    {
     "cell_type": "code",
     "collapsed": false,
     "input": [
      "print pd.DataFrame(zip(X.columns, np.transpose(logistic_regr.coef_)))"
     ],
     "language": "python",
     "metadata": {},
     "outputs": [
      {
       "output_type": "stream",
       "stream": "stdout",
       "text": [
        "                                                    0                  1\n",
        "0                                           Intercept  [-0.204578741029]\n",
        "1                   C(Education)[T.Bachelor's degree]    [2.03633872853]\n",
        "2   C(Education)[T.High school diploma or equivalent]  [-0.399899319124]\n",
        "3                     C(Education)[T.Master's degree]   [0.447199783947]\n",
        "4      C(Education)[T.Postsecondary non-degree award]   [0.419410755497]\n",
        "5                                  C(Education)[T.\u2014 ]   [0.065108355595]\n",
        "6                  C(Occupation)[T.Less than 5 years]   [0.009179796675]\n",
        "7                               C(Occupation)[T.None]  [-0.655017472521]\n",
        "8                                 C(Occupation)[T.\u2014 ]   [0.065108355595]\n",
        "9        C(Training)[T.Long-term on-the-job training]              [0.0]\n",
        "10   C(Training)[T.Moderate-term on-the-job training]   [0.305732438618]\n",
        "11                                C(Training)[T.None]  [-0.202104139864]\n",
        "12      C(Training)[T.Short-term on-the-job training]  [-0.647712294522]\n",
        "13                                  C(Training)[T.\u2014 ]   [0.065108355595]\n",
        "14                   C(Occupation)[T.5 years or more]   [0.376150579222]\n"
       ]
      }
     ],
     "prompt_number": 39
    },
    {
     "cell_type": "heading",
     "level": 2,
     "metadata": {},
     "source": [
      "Results:"
     ]
    },
    {
     "cell_type": "markdown",
     "metadata": {},
     "source": [
      "Bachelor's degree is very important for job hunting.\n",
      "\n",
      "Only more than 5 years' experience can work for your profile.\n",
      "\n",
      "Doctor certificate will have a very important role on your salary.\n",
      "\n",
      "Moderate training is enough."
     ]
    },
    {
     "cell_type": "code",
     "collapsed": false,
     "input": [],
     "language": "python",
     "metadata": {},
     "outputs": []
    }
   ],
   "metadata": {}
  }
 ]
}